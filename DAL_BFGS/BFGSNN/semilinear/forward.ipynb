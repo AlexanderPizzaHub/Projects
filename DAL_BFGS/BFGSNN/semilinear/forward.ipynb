{
 "cells": [
  {
   "cell_type": "code",
   "execution_count": 1,
   "metadata": {},
   "outputs": [],
   "source": [
    "import torch\n",
    "import numpy as np\n",
    "import torch.optim as opt\n",
    "import matplotlib.pyplot as plt\n",
    "import torch.utils.data.dataset as Dataset\n",
    "import torch.utils.data.dataloader as Dataloader\n",
    "from torch.autograd import Variable\n",
    "import pickle as pkl\n",
    "import os\n",
    "from mpl_toolkits.mplot3d import Axes3D\n",
    "from matplotlib import cm\n",
    "from matplotlib.ticker import LinearLocator, FormatStrFormatter\n",
    "from utils import model,tools,pde,validation"
   ]
  },
  {
   "cell_type": "code",
   "execution_count": 2,
   "metadata": {},
   "outputs": [],
   "source": [
    "torch.set_default_dtype(torch.float64)\n",
    "device = torch.device('cuda' if torch.cuda.is_available() else 'cpu')"
   ]
  },
  {
   "cell_type": "code",
   "execution_count": 3,
   "metadata": {},
   "outputs": [],
   "source": [
    "y = model.NN().to(device)\n",
    "\n",
    "y.apply(model.init_weights)\n",
    "\n",
    "dataname = '10000points_frd'\n",
    "bw = 0.9999\n",
    "name = 'forward_test/bw{}/'.format(bw)\n",
    "if not os.path.exists(name):\n",
    "    os.makedirs(name)\n",
    "\n",
    "if not os.path.exists(name+\"u_plots/\"):\n",
    "    os.makedirs(name+\"u_plots/\")\n",
    "\n",
    "if not os.path.exists(name+'phi_plots/'):\n",
    "    os.makedirs(name+\"phi_plots/\")\n",
    "\n",
    "#Setting optimizer\n",
    "params = list(y.parameters())\n",
    "#optimizer = opt.Adam(params,lr=1e-4)\n",
    "max_iter =  8000\n",
    "#Loss fun\n",
    "mse_loss = torch.nn.MSELoss()\n",
    "\n",
    "#Define schedule\n",
    "#scheduler = opt.lr_scheduler.ReduceLROnPlateau(optimizer,patience=500)\n",
    "\n",
    "ld = 1e-2\n"
   ]
  },
  {
   "cell_type": "code",
   "execution_count": 4,
   "metadata": {},
   "outputs": [
    {
     "name": "stdout",
     "output_type": "stream",
     "text": [
      "(10000, 2) (2000, 2) (1681, 2)\n"
     ]
    }
   ],
   "source": [
    "with open(\"dataset/\"+dataname,'rb') as pfile:\n",
    "    d_c = pkl.load(pfile)\n",
    "    b_c = pkl.load(pfile)\n",
    "    c_c = pkl.load(pfile)\n",
    "print(d_c.shape,b_c.shape,c_c.shape)\n",
    "\n",
    "dx1,dx2 = np.split(d_c,2,axis=1)\n",
    "bx1,bx2 = np.split(b_c,2,axis=1)\n",
    "cx1,cx2 = np.split(c_c,2,axis=1)\n",
    "\n",
    "\n",
    "#For simul, no cost evaluation, and we need data on whole domain.\n",
    "\n",
    "tdx1,tdx2,tbx1,tbx2,tcx1,tcx2 = tools.from_numpy_to_tensor([dx1,dx2,bx1,bx2,cx1,cx2],[True,True,False,False,False,False])\n",
    "\n",
    "with open(\"dataset/gt_on_{}\".format(dataname),'rb') as pfile:\n",
    "    y_gt = pkl.load(pfile)\n",
    "    u_gt = pkl.load(pfile)\n",
    "    p_gt = pkl.load(pfile)\n",
    "    y_dat_np = pkl.load(pfile)\n",
    "    f_np = pkl.load(pfile)\n",
    "    bdry_np = pkl.load(pfile)\n",
    "\n",
    "f,ugt,y_dat,bdrydat,ygt = tools.from_numpy_to_tensor([f_np,u_gt,y_dat_np,bdry_np,y_gt],[False,False,False,False,False])"
   ]
  },
  {
   "cell_type": "code",
   "execution_count": 5,
   "metadata": {},
   "outputs": [],
   "source": [
    "#construct closure\n",
    "rec =validation.record_penalty()\n",
    "with torch.no_grad():\n",
    "    labelx1 = (tdx1-0.25)*(tdx1-0.75)\n",
    "    labelx2 = (tdx2-0.25)*(tdx2-0.75)\n",
    "\n",
    "def hook(optimizer,nploss):\n",
    "    stateitems = list(optimizer.state.items())\n",
    "    rec.updateTL(nploss)\n",
    "    epoch = stateitems[0][1]['n_iter']\n",
    "    vy = np.sqrt((mse_loss(y(tdx1,tdx2),ygt)/torch.mean(torch.square(ygt))).detach().numpy())\n",
    "    rec.updateVL(float(vy),None)\n",
    "    if epoch%100==0:\n",
    "        with torch.enable_grad():\n",
    "            pdedata_u = f + ugt\n",
    "            pdedata_phi = y(tdx1,tdx2) - y_dat\n",
    "            loss,res,misfit = pde.pdeloss(y,tdx1,tdx2,labelx1,labelx2,f+ugt,tbx1,tbx2,bdrydat,bw)\n",
    "        rec.updatePL(loss.detach().numpy(),res[0].detach().numpy(),res[1].detach().numpy(),cost=None)\n",
    "\n",
    "        print(\"outputting info...\")\n",
    "        losslist,pdehist,adjhist,vhist_u,vhist_phi = rec.getattr()\n",
    "        with torch.no_grad():\n",
    "            print(\"epoch:{}, loss:{}\".format(rec.getepoch(),loss))\n",
    "            rec.plotinfo(name)\n",
    "            validation.plot_2D(y,name+\"u_plots/u{}.png\".format(rec.getepoch()))\n",
    "            \n",
    "        \n",
    "            torch.save(y,'{}u.pt'.format(name))\n",
    "            with open(name+\"losshist.pkl\",'wb') as pfile:\n",
    "                pkl.dump(losslist,pfile)\n",
    "\n",
    "            print(\"INFO SAVED at epoch: {},validation: {}\".format(rec.getepoch(),float(vy)))\n",
    "\n",
    "optimizer = opt.LBFGS(params,stephook=hook,line_search_fn='strong_wolfe',max_iter=max_iter,tolerance_grad=1e-20,tolerance_change=1e-20)\n",
    "def closure():\n",
    "    optimizer.zero_grad()\n",
    "\n",
    "    loss,res,misfit = pde.pdeloss(y,tdx1,tdx2,labelx1,labelx2,f+ugt,tbx1,tbx2,bdrydat,bw)\n",
    "    loss.backward()\n",
    "    nploss = loss.detach().numpy()\n",
    "\n",
    "    return nploss"
   ]
  },
  {
   "cell_type": "code",
   "execution_count": 6,
   "metadata": {},
   "outputs": [
    {
     "name": "stdout",
     "output_type": "stream",
     "text": [
      "outputting info...\n",
      "epoch:100, loss:0.00024237960453556297\n"
     ]
    },
    {
     "name": "stderr",
     "output_type": "stream",
     "text": [
      "/Users/dual/Documents/cpinn_backup_20230624/SemilinearPoissonEx3/utils/validation.py:237: UserWarning: Data has no positive values, and therefore cannot be log-scaled.\n",
      "  plt.savefig(path+'history.png')\n"
     ]
    },
    {
     "name": "stdout",
     "output_type": "stream",
     "text": [
      "INFO SAVED at epoch: 100,validation: 0.027716160152567473\n",
      "outputting info...\n",
      "epoch:200, loss:7.686642551730445e-06\n",
      "INFO SAVED at epoch: 200,validation: 0.002682219663823111\n",
      "outputting info...\n",
      "epoch:300, loss:2.075635184298098e-06\n",
      "INFO SAVED at epoch: 300,validation: 0.0013052598976843657\n",
      "outputting info...\n",
      "epoch:400, loss:1.1038523621541807e-06\n",
      "INFO SAVED at epoch: 400,validation: 0.0008316951475427875\n",
      "outputting info...\n",
      "epoch:500, loss:7.997866223372397e-07\n",
      "INFO SAVED at epoch: 500,validation: 0.0006736575255370709\n",
      "outputting info...\n",
      "epoch:600, loss:7.995465010090875e-07\n",
      "INFO SAVED at epoch: 600,validation: 0.000672869820300591\n",
      "outputting info...\n",
      "epoch:700, loss:7.993561274262739e-07\n",
      "INFO SAVED at epoch: 700,validation: 0.0006726504017810536\n",
      "outputting info...\n",
      "epoch:800, loss:7.991670125653155e-07\n",
      "INFO SAVED at epoch: 800,validation: 0.0006724593531795941\n"
     ]
    }
   ],
   "source": [
    "%%time\n",
    "for _ in range(max_iter):\n",
    "    optimizer.step(closure)\n",
    "print(\"TERMINATED\")"
   ]
  }
 ],
 "metadata": {
  "kernelspec": {
   "display_name": "pytorch",
   "language": "python",
   "name": "python3"
  },
  "language_info": {
   "codemirror_mode": {
    "name": "ipython",
    "version": 3
   },
   "file_extension": ".py",
   "mimetype": "text/x-python",
   "name": "python",
   "nbconvert_exporter": "python",
   "pygments_lexer": "ipython3",
   "version": "3.11.3"
  },
  "orig_nbformat": 4,
  "vscode": {
   "interpreter": {
    "hash": "71fc724e53de30ce08915d101cf430a4a4c6e947f785ecc40d08b18f2ec06095"
   }
  }
 },
 "nbformat": 4,
 "nbformat_minor": 2
}
