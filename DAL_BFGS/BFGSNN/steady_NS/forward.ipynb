{
 "cells": [
  {
   "cell_type": "code",
   "execution_count": 1,
   "metadata": {},
   "outputs": [
    {
     "name": "stdout",
     "output_type": "stream",
     "text": [
      "validation data shape: (40000, 2) (40000, 2) (40000,) (40000, 2) (40000, 2)\n"
     ]
    }
   ],
   "source": [
    "import torch\n",
    "import numpy as np\n",
    "import torch.optim as opt\n",
    "import matplotlib.pyplot as plt\n",
    "import torch.utils.data.dataset as Dataset\n",
    "import torch.utils.data.dataloader as Dataloader\n",
    "from torch.autograd import Variable\n",
    "import pickle as pkl\n",
    "import os\n",
    "from mpl_toolkits.mplot3d import Axes3D\n",
    "from matplotlib import cm\n",
    "from matplotlib.ticker import LinearLocator, FormatStrFormatter\n",
    "from utils import model,tools,pde,validation"
   ]
  },
  {
   "cell_type": "code",
   "execution_count": 2,
   "metadata": {},
   "outputs": [],
   "source": [
    "torch.set_default_dtype(torch.float64)\n",
    "device = torch.device('cuda' if torch.cuda.is_available() else 'cpu')"
   ]
  },
  {
   "cell_type": "code",
   "execution_count": 3,
   "metadata": {},
   "outputs": [],
   "source": [
    "y = model.NN().to(device)\n",
    "p = model.pres().to(device)\n",
    "\n",
    "y.apply(model.init_weights)\n",
    "p.apply(model.init_weights)\n",
    "\n",
    "dataname = '1000points'\n",
    "name = 'forward_test/forward2/'\n",
    "if not os.path.exists(name):\n",
    "    os.makedirs(name)\n",
    "\n",
    "if not os.path.exists(name+\"u_plots/\"):\n",
    "    os.makedirs(name+\"u_plots/\")\n",
    "\n",
    "if not os.path.exists(name+'phi_plots/'):\n",
    "    os.makedirs(name+\"phi_plots/\")\n",
    "\n",
    "#Setting optimizer\n",
    "params = list(y.parameters())+list(p.parameters())\n",
    "#optimizer = opt.Adam(params,lr=1e-4)\n",
    "max_iter =  1000\n",
    "#Loss fun\n",
    "mse_loss = torch.nn.MSELoss()\n",
    "\n",
    "#Define schedule\n",
    "#scheduler = opt.lr_scheduler.ReduceLROnPlateau(optimizer,patience=500)\n",
    "\n",
    "ld = 1e-2\n",
    "bw = 100\n",
    "dw = 100\n",
    "mu = 1"
   ]
  },
  {
   "cell_type": "code",
   "execution_count": 4,
   "metadata": {},
   "outputs": [
    {
     "name": "stdout",
     "output_type": "stream",
     "text": [
      "(3000, 2) (1000, 2) (1500, 2)\n"
     ]
    }
   ],
   "source": [
    "with open(\"dataset/\"+dataname,'rb') as pfile:\n",
    "    d_c = pkl.load(pfile)\n",
    "    b_c = pkl.load(pfile)\n",
    "    c_c = pkl.load(pfile)\n",
    "print(d_c.shape,b_c.shape,c_c.shape)\n",
    "\n",
    "dx1,dx2 = np.split(d_c,2,axis=1)\n",
    "bx1,bx2 = np.split(b_c,2,axis=1)\n",
    "cx1,cx2 = np.split(c_c,2,axis=1)\n",
    "\n",
    "#For simul, no cost evaluation, and we need data on whole domain.\n",
    "\n",
    "tdx1,tdx2,tbx1,tbx2,tcx1,tcx2 = tools.from_numpy_to_tensor([dx1,dx2,bx1,bx2,cx1,cx2],[True,True,True,True,False,False])\n",
    "\n",
    "with open(\"dataset/gt_on_{}\".format(dataname),'rb') as pfile:\n",
    "    y_gt = pkl.load(pfile)\n",
    "    u_gt = pkl.load(pfile)\n",
    "    p_gt = pkl.load(pfile)\n",
    "    y_dat_np = pkl.load(pfile)\n",
    "    f_np = pkl.load(pfile)\n",
    "    bdry_np = pkl.load(pfile)\n",
    "\n",
    "f,ugt,y_dat,bdrydat,ygt = tools.from_numpy_to_tensor([f_np,u_gt,y_dat_np,bdry_np,y_gt],[False,False,False,False,False])\n",
    "\n",
    "divdat = torch.zeros([len(tdx1),1])"
   ]
  },
  {
   "cell_type": "code",
   "execution_count": 5,
   "metadata": {},
   "outputs": [],
   "source": [
    "#construct closure\n",
    "rec =validation.record_penalty()\n",
    "\n",
    "red_func = pde.redfunc(y)\n",
    "\n",
    "def hook(optimizer,nploss):\n",
    "    stateitems = list(optimizer.state.items())\n",
    "    rec.updateTL(nploss)\n",
    "    epoch = stateitems[0][1]['n_iter']\n",
    "    vy = np.sqrt((mse_loss(y(tdx1,tdx2),ygt)/torch.mean(torch.square(ygt))).detach().numpy())\n",
    "    rec.updateVL(float(vy),None)\n",
    "    if epoch%100==0:\n",
    "        with torch.enable_grad():\n",
    "            pdedata_u = f + ugt\n",
    "            loss,pres,misfit = pde.pdeloss(y,p,tdx1,tdx2,pdedata_u,tbx1,tbx2,bdrydat,bw,divdat,dw,red_func,mu)\n",
    "        rec.updatePL(loss.detach().numpy(),pres[0].detach().numpy(),pres[1].detach().numpy(),cost=None)\n",
    "\n",
    "        print(\"outputting info...\")\n",
    "        losslist,pdehist,adjhist,vhist_u,vhist_phi = rec.getattr()\n",
    "        with torch.no_grad():\n",
    "            print(\"epoch:{}, loss:{}\".format(rec.getepoch(),loss))\n",
    "            rec.plotinfo(name)\n",
    "            validation.plot_2D_scatter(y,name+\"u_plots/u{}.png\".format(rec.getepoch()))\n",
    "            \n",
    "        \n",
    "            torch.save(y,'{}u.pt'.format(name))\n",
    "            with open(name+\"losshist.pkl\",'wb') as pfile:\n",
    "                pkl.dump(losslist,pfile)\n",
    "\n",
    "            print(\"INFO SAVED at epoch: {},validation: {}\".format(rec.getepoch(),float(vy)))\n",
    "\n",
    "optimizer = opt.LBFGS(params,stephook=hook,line_search_fn='strong_wolfe',max_iter=max_iter,tolerance_grad=1e-20,tolerance_change=1e-20)\n",
    "def closure():\n",
    "    optimizer.zero_grad()\n",
    "\n",
    "    loss,pres,bres = pde.pdeloss(y,p,tdx1,tdx2,f+ugt,tbx1,tbx2,bdrydat,bw,divdat,dw,red_func,mu)\n",
    "    loss.backward()\n",
    "    nploss = loss.detach().numpy()\n",
    "\n",
    "    return nploss"
   ]
  },
  {
   "cell_type": "code",
   "execution_count": 6,
   "metadata": {},
   "outputs": [
    {
     "name": "stdout",
     "output_type": "stream",
     "text": [
      "outputting info...\n",
      "epoch:100, loss:4.53628658185234\n"
     ]
    },
    {
     "name": "stderr",
     "output_type": "stream",
     "text": [
      "/Users/dual/Documents/cpinn_backup_20230624/BFGSNN/steady_NS/utils/validation.py:264: UserWarning: Data has no positive values, and therefore cannot be log-scaled.\n",
      "  plt.savefig(path+'history.png')\n"
     ]
    },
    {
     "name": "stdout",
     "output_type": "stream",
     "text": [
      "INFO SAVED at epoch: 100,validation: 0.25578539145409324\n",
      "outputting info...\n",
      "epoch:200, loss:0.1933105206486403\n",
      "INFO SAVED at epoch: 200,validation: 0.05353017261602518\n",
      "outputting info...\n",
      "epoch:300, loss:0.06375467404541604\n",
      "INFO SAVED at epoch: 300,validation: 0.024839729728701125\n",
      "outputting info...\n",
      "epoch:400, loss:0.04075554506197876\n",
      "INFO SAVED at epoch: 400,validation: 0.022106645574675846\n",
      "outputting info...\n",
      "epoch:500, loss:0.0293282806041314\n",
      "INFO SAVED at epoch: 500,validation: 0.021347114199975318\n",
      "outputting info...\n",
      "epoch:600, loss:0.023091506278799794\n",
      "INFO SAVED at epoch: 600,validation: 0.0197136478885295\n",
      "outputting info...\n",
      "epoch:700, loss:0.018387433662354687\n",
      "INFO SAVED at epoch: 700,validation: 0.01831309582618857\n",
      "outputting info...\n",
      "epoch:800, loss:0.01489845489583774\n"
     ]
    }
   ],
   "source": [
    "%%time\n",
    "for _ in range(max_iter):\n",
    "    optimizer.step(closure)\n",
    "print(\"TERMINATED\")"
   ]
  },
  {
   "cell_type": "code",
   "execution_count": null,
   "metadata": {},
   "outputs": [],
   "source": []
  },
  {
   "cell_type": "code",
   "execution_count": null,
   "metadata": {},
   "outputs": [],
   "source": []
  },
  {
   "cell_type": "code",
   "execution_count": null,
   "metadata": {},
   "outputs": [],
   "source": []
  }
 ],
 "metadata": {
  "kernelspec": {
   "display_name": "pytorch",
   "language": "python",
   "name": "python3"
  },
  "language_info": {
   "codemirror_mode": {
    "name": "ipython",
    "version": 3
   },
   "file_extension": ".py",
   "mimetype": "text/x-python",
   "name": "python",
   "nbconvert_exporter": "python",
   "pygments_lexer": "ipython3",
   "version": "3.11.3"
  },
  "orig_nbformat": 4,
  "vscode": {
   "interpreter": {
    "hash": "71fc724e53de30ce08915d101cf430a4a4c6e947f785ecc40d08b18f2ec06095"
   }
  }
 },
 "nbformat": 4,
 "nbformat_minor": 2
}
